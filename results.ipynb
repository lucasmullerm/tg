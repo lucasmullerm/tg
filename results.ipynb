# %%
# All imports
import matplotlib.pyplot as plt
from probability import Probability
import entropy
import util
import songs
from music21 import converter
# import numpy as np

def s(name):
    filename = 'melody/' + name + '.mid'
    song = converter.parse(filename)
    parts = list(song.parts)
    size = map(lambda p: len(p.flat.notesAndRests), parts)
    print('Parts:',list(size))
    return song.parts

def t(part):
    deltat = list(map(lambda e: e.duration.quarterLength, part.flat.notesAndRests))
    for i in range(len(deltat)):
        if i:
            deltat[i] = deltat[i-1] + deltat[i]
    return deltat

x = []
ynotes = []
ynotes1 = []
ydiff = []
all = {}
for artist in songs.ARTISTS:
    for song in songs.LIST[artist]:
        parts = s(song.name)
        p = Probability()
        p.addSong(parts)
        x.append(song.year)
        h = entropy.mean(p)
        all[song.name] = (song.year, h)
        ynotes.append(h[util.NOTE][0])
        ynotes1.append(h[util.NOTE][1])
        ydiff.append(h[util.DELTA][0])
        if not h:
            print(song.name)

plt.figure(figsize=(20, 6))
plt.plot(x, ynotes1, '.')
plt.show()

print()

# %%
# turkish = 'songs/turkish.mid'
# h = entropy.fromFile(turkish, 1000)
# plt.figure(figsize=(20, 6))
# plt.plot(h[0][util.NOTE][0][:200])
# plt.plot(h[0][util.NOTE][1][:200], color='red')
# # plt.plot(h[0][util.DURATION][:200], color='green')
# # plt.show()
# plt.savefig('turkish.pdf')

# %%
# plt.figure(figsize=(20, 6))
# plt.plot(h[0][util.DURATION][:200])
# plt.savefig('turkish_duration.pdf')
