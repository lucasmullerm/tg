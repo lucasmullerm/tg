# %%
# All imports
import matplotlib.pyplot as plt
# from probability import Probability
import entropy
import util
# import numpy as np

# %%
turkish = 'songs/turkish.mid'
h = entropy.fromFile(turkish, 1000)
plt.figure(figsize=(20, 6))
plt.plot(h[0][util.NOTE][0][:200])
plt.plot(h[0][util.NOTE][1][:200], color='red')
# plt.plot(h[0][util.DURATION][:200], color='green')
# plt.show()
plt.savefig('turkish.pdf')

# %%
plt.figure(figsize=(20, 6))
plt.plot(h[0][util.DURATION][:200])
plt.savefig('turkish_duration.pdf')
